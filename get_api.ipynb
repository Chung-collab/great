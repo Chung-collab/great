{
  "nbformat": 4,
  "nbformat_minor": 0,
  "metadata": {
    "colab": {
      "name": "get_api.ipynb",
      "provenance": [],
      "authorship_tag": "ABX9TyN9VDOVuV599dOydhfyAr/w",
      "include_colab_link": true
    },
    "kernelspec": {
      "name": "python3",
      "display_name": "Python 3"
    },
    "language_info": {
      "name": "python"
    }
  },
  "cells": [
    {
      "cell_type": "markdown",
      "metadata": {
        "id": "view-in-github",
        "colab_type": "text"
      },
      "source": [
        "<a href=\"https://colab.research.google.com/github/Chung-collab/great/blob/master/get_api.ipynb\" target=\"_parent\"><img src=\"https://colab.research.google.com/assets/colab-badge.svg\" alt=\"Open In Colab\"/></a>"
      ]
    },
    {
      "cell_type": "code",
      "metadata": {
        "colab": {
          "base_uri": "https://localhost:8080/"
        },
        "id": "6yzFRtETYoRZ",
        "outputId": "02851d92-06f1-42eb-ec10-05b1abd3d121"
      },
      "source": [
        "import requests  # Import the requests library\n",
        "\n",
        "url = ('https://api.data.gov.hk/v2/filter?q=%7B%22resource%22%3A%22http%3A%2F%2Fwww.rvd.gov.hk%2Fdoc%2Fen%2Fstatistics%2Fhis_data_12.xls%22%2C%22section%22%3A1%2C%22format%22%3A%22json%22%2C%22filters%22%3A%5B%5B1%2C%22bw%22%2C%5B%221997%22%5D%5D%5D%7D')\n",
        "print(url)\n",
        "\n",
        "response = requests.get(url)  # Make a GET request to the URL\n",
        "\n",
        "# Print status code (and associated text)\n",
        "print(f\"Request returned {response.status_code} : '{response.reason}'\")\n",
        "\n",
        "# Print data returned (parsing as JSON)\n",
        "payload = response.json()  # Parse `response.text` into JSON\n",
        "\n",
        "import pprint\n",
        "pp = pprint.PrettyPrinter(indent=1)\n",
        "pp.pprint(payload)\n",
        "print(url)\n",
        "\n",
        "response = requests.get(url)  # Make a GET request to the URL\n",
        "\n",
        "# Print status code (and associated text)\n",
        "print(f\"Request returned {response.status_code} : '{response.reason}'\")\n",
        "\n",
        "# Print data returned (parsing as JSON)\n",
        "payload = response.json()  # Parse `response.text` into JSON\n",
        "\n",
        "import pprint\n",
        "pp = pprint.PrettyPrinter(indent=1)\n",
        "pp.pprint(payload)"
      ],
      "execution_count": 1,
      "outputs": [
        {
          "output_type": "stream",
          "text": [
            "https://api.data.gov.hk/v2/filter?q=%7B%22resource%22%3A%22http%3A%2F%2Fwww.rvd.gov.hk%2Fdoc%2Fen%2Fstatistics%2Fhis_data_12.xls%22%2C%22section%22%3A1%2C%22format%22%3A%22json%22%2C%22filters%22%3A%5B%5B1%2C%22bw%22%2C%5B%221997%22%5D%5D%5D%7D\n",
            "Request returned 200 : 'OK'\n",
            "[{'售價 Prices': 150.8, '年 Year': '1997', '月 Month': '1', '租金 Rents': 119.3},\n",
            " {'售價 Prices': 156.2, '年 Year': '1997', '月 Month': '2', '租金 Rents': 123.5},\n",
            " {'售價 Prices': 168, '年 Year': '1997', '月 Month': '3', '租金 Rents': 120.5},\n",
            " {'售價 Prices': 170.7, '年 Year': '1997', '月 Month': '4', '租金 Rents': 123},\n",
            " {'售價 Prices': 182.9, '年 Year': '1997', '月 Month': '5', '租金 Rents': 122.9},\n",
            " {'售價 Prices': 180, '年 Year': '1997', '月 Month': '6', '租金 Rents': 126.8},\n",
            " {'售價 Prices': 181.7, '年 Year': '1997', '月 Month': '7', '租金 Rents': 124.2},\n",
            " {'售價 Prices': 195.9, '年 Year': '1997', '月 Month': '8', '租金 Rents': 125.2},\n",
            " {'售價 Prices': 202.6, '年 Year': '1997', '月 Month': '9', '租金 Rents': 124.5},\n",
            " {'售價 Prices': 192.2, '年 Year': '1997', '月 Month': '10', '租金 Rents': 123.5},\n",
            " {'售價 Prices': 181.1, '年 Year': '1997', '月 Month': '11', '租金 Rents': 123.7},\n",
            " {'售價 Prices': 165.3, '年 Year': '1997', '月 Month': '12', '租金 Rents': 125.2}]\n",
            "https://api.data.gov.hk/v2/filter?q=%7B%22resource%22%3A%22http%3A%2F%2Fwww.rvd.gov.hk%2Fdoc%2Fen%2Fstatistics%2Fhis_data_12.xls%22%2C%22section%22%3A1%2C%22format%22%3A%22json%22%2C%22filters%22%3A%5B%5B1%2C%22bw%22%2C%5B%221997%22%5D%5D%5D%7D\n",
            "Request returned 200 : 'OK'\n",
            "[{'售價 Prices': 150.8, '年 Year': '1997', '月 Month': '1', '租金 Rents': 119.3},\n",
            " {'售價 Prices': 156.2, '年 Year': '1997', '月 Month': '2', '租金 Rents': 123.5},\n",
            " {'售價 Prices': 168, '年 Year': '1997', '月 Month': '3', '租金 Rents': 120.5},\n",
            " {'售價 Prices': 170.7, '年 Year': '1997', '月 Month': '4', '租金 Rents': 123},\n",
            " {'售價 Prices': 182.9, '年 Year': '1997', '月 Month': '5', '租金 Rents': 122.9},\n",
            " {'售價 Prices': 180, '年 Year': '1997', '月 Month': '6', '租金 Rents': 126.8},\n",
            " {'售價 Prices': 181.7, '年 Year': '1997', '月 Month': '7', '租金 Rents': 124.2},\n",
            " {'售價 Prices': 195.9, '年 Year': '1997', '月 Month': '8', '租金 Rents': 125.2},\n",
            " {'售價 Prices': 202.6, '年 Year': '1997', '月 Month': '9', '租金 Rents': 124.5},\n",
            " {'售價 Prices': 192.2, '年 Year': '1997', '月 Month': '10', '租金 Rents': 123.5},\n",
            " {'售價 Prices': 181.1, '年 Year': '1997', '月 Month': '11', '租金 Rents': 123.7},\n",
            " {'售價 Prices': 165.3, '年 Year': '1997', '月 Month': '12', '租金 Rents': 125.2}]\n"
          ],
          "name": "stdout"
        }
      ]
    },
    {
      "cell_type": "code",
      "metadata": {
        "colab": {
          "base_uri": "https://localhost:8080/"
        },
        "id": "GLHXKji2wIzq",
        "outputId": "52265b66-bf92-476f-f65f-7733be7bb890"
      },
      "source": [
        "import requests  # Import the requests library\n",
        "\n",
        "# Query URL\n",
        "url = ('http://ec.europa.eu/eurostat/wdds/rest/data/v2.1/json/en/nama_10_gdp?precision=1&geo=NL&geo=DE&&na_item=B1GQ&unit=CLV05_MEUR&time=2019&time=2020')\n",
        "print(url)\n",
        "\n",
        "response = requests.get(url)  # Make a GET request to the URL\n",
        "\n",
        "# Print status code (and associated text)\n",
        "print(f\"Request returned {response.status_code} : '{response.reason}'\")\n",
        "\n",
        "# Print data returned (parsing as JSON)\n",
        "payload = response.json()  # Parse `response.text` into JSON\n",
        "\n",
        "import pprint\n",
        "pp = pprint.PrettyPrinter(indent=1)\n",
        "pp.pprint(payload)"
      ],
      "execution_count": 5,
      "outputs": [
        {
          "output_type": "stream",
          "text": [
            "http://ec.europa.eu/eurostat/wdds/rest/data/v2.1/json/en/nama_10_gdp?precision=1&geo=NL&geo=DE&&na_item=B1GQ&unit=CLV05_MEUR&time=2019&time=2020\n",
            "Request returned 200 : 'OK'\n",
            "{'class': 'dataset',\n",
            " 'dimension': {'geo': {'category': {'index': {'DE': 0, 'NL': 1},\n",
            "                                    'label': {'DE': 'Germany (until 1990 '\n",
            "                                                    'former territory of the '\n",
            "                                                    'FRG)',\n",
            "                                              'NL': 'Netherlands'}},\n",
            "                       'label': 'geo'},\n",
            "               'na_item': {'category': {'index': {'B1GQ': 0},\n",
            "                                        'label': {'B1GQ': 'Gross domestic '\n",
            "                                                          'product at market '\n",
            "                                                          'prices'}},\n",
            "                           'label': 'na_item'},\n",
            "               'time': {'category': {'index': {'2019': 0, '2020': 1},\n",
            "                                     'label': {'2019': '2019', '2020': '2020'}},\n",
            "                        'label': 'time'},\n",
            "               'unit': {'category': {'index': {'CLV05_MEUR': 0},\n",
            "                                     'label': {'CLV05_MEUR': 'Chain linked '\n",
            "                                                             'volumes (2005), '\n",
            "                                                             'million euro'}},\n",
            "                        'label': 'unit'}},\n",
            " 'extension': {'datasetId': 'nama_10_gdp',\n",
            "               'description': None,\n",
            "               'lang': 'EN',\n",
            "               'status': {'label': {'p': 'provisional'}},\n",
            "               'subTitle': None},\n",
            " 'href': 'http://ec.europa.eu/eurostat/wdds/rest/data/v2.1/json/en/nama_10_gdp?precision=1&geo=NL&geo=DE&&na_item=B1GQ&unit=CLV05_MEUR&time=2019&time=2020',\n",
            " 'id': ['unit', 'na_item', 'geo', 'time'],\n",
            " 'label': 'GDP and main components (output, expenditure and income)',\n",
            " 'size': [1, 1, 2, 2],\n",
            " 'source': 'Eurostat',\n",
            " 'status': {'1': 'p', '2': 'p', '3': 'p'},\n",
            " 'updated': '2021-06-11',\n",
            " 'value': {'0': 2818106.7, '1': 2683810.6, '2': 670246.0, '3': 645169.9},\n",
            " 'version': '2.0'}\n"
          ],
          "name": "stdout"
        }
      ]
    }
  ]
}