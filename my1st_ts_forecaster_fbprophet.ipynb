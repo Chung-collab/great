{
  "nbformat": 4,
  "nbformat_minor": 0,
  "metadata": {
    "colab": {
      "name": "Predictor.ipynb",
      "provenance": [],
      "authorship_tag": "ABX9TyPXkzVzX0gR65MX8553koat",
      "include_colab_link": true
    },
    "kernelspec": {
      "name": "python3",
      "display_name": "Python 3"
    },
    "language_info": {
      "name": "python"
    }
  },
  "cells": [
    {
      "cell_type": "markdown",
      "metadata": {
        "id": "view-in-github",
        "colab_type": "text"
      },
      "source": [
        "<a href=\"https://colab.research.google.com/github/Chung-collab/great/blob/master/my1st_ts_forecaster_fbprophet.ipynb\" target=\"_parent\"><img src=\"https://colab.research.google.com/assets/colab-badge.svg\" alt=\"Open In Colab\"/></a>"
      ]
    },
    {
      "cell_type": "code",
      "metadata": {
        "id": "OXZ50XCfihP1"
      },
      "source": [
        "#install FB Prophet\n",
        "! pip install fbprophet"
      ],
      "execution_count": null,
      "outputs": []
    },
    {
      "cell_type": "code",
      "metadata": {
        "id": "i62yQVJSjBTc"
      },
      "source": [
        "#import datareader, pd, plt and Prophet\n",
        "import pandas_datareader as web\n",
        "import pandas as pd\n",
        "import matplotlib.pyplot as plt\n",
        "from fbprophet import Prophet"
      ],
      "execution_count": 63,
      "outputs": []
    },
    {
      "cell_type": "code",
      "metadata": {
        "id": "a6NOZtUcjv-M"
      },
      "source": [
        "#read time series data from Yahoo Finance\n",
        "df = web.DataReader('^HSI', data_source='yahoo', start='2015-01-01', end='2021-05-31') #'AAPL' = Apple, ...\n",
        "df.reset_index() #reset the date index to become the first column\n",
        "#or read from url: #url=\"https://covid.ourworldindata.org/data/ecdc/full_data.csv\" #df=pd.read_csv(url) #print(df.head())"
      ],
      "execution_count": null,
      "outputs": []
    },
    {
      "cell_type": "code",
      "metadata": {
        "id": "S9wZTbkYkJjT"
      },
      "source": [
        "#show the information and descriptions of the data collected\n",
        "print(df.reset_index().info())\n",
        "print(df.reset_index().describe())"
      ],
      "execution_count": null,
      "outputs": []
    },
    {
      "cell_type": "code",
      "metadata": {
        "id": "caLktUXhod3v"
      },
      "source": [
        "#plot the chart\n",
        "plt.figure(figsize=(14,6))\n",
        "plt.title('Close Price History')\n",
        "plt.plot(df['Close'])\n",
        "plt.xlabel('Year', fontsize=16)\n",
        "plt.ylabel('Close Price' , fontsize=16)\n",
        "plt.show()\n",
        "#or #df.plot(y = 'Close')"
      ],
      "execution_count": null,
      "outputs": []
    },
    {
      "cell_type": "code",
      "metadata": {
        "id": "8Jc5CdjbrAl_"
      },
      "source": [
        "#define data x,y\n",
        "data = df.reset_index()[['Date', 'Close']]\n",
        "data.columns = ['ds' , 'y']"
      ],
      "execution_count": 67,
      "outputs": []
    },
    {
      "cell_type": "code",
      "metadata": {
        "id": "I3JQXv_skolz"
      },
      "source": [
        "#define the forecasting model parameters, trend = logistic growth, yearly seasonality = multiplicative, no holiday parameter\n",
        "model_params = {\"daily_seasonality\": False, \"weekly_seasonality\": False, \"yearly_seasonality\": True, \"seasonality_mode\": \"multiplicative\", \"growth\": \"logistic\"}"
      ],
      "execution_count": 68,
      "outputs": []
    },
    {
      "cell_type": "code",
      "metadata": {
        "id": "o0gxmMs_ldpu"
      },
      "source": [
        "#define the forecasting model and set the cap\n",
        "model = Prophet(**model_params)\n",
        "data['cap'] = data['y'].max() + data['y'].std() * 0.05"
      ],
      "execution_count": 69,
      "outputs": []
    },
    {
      "cell_type": "code",
      "metadata": {
        "id": "uDAivdYFmLMO"
      },
      "source": [
        "#define future as the future 365 days' data, and define forecast as predicting the future by the forecasting model\n",
        "model.fit(data)\n",
        "future = model.make_future_dataframe(periods=365)\n",
        "future['cap'] = data['cap'].max()\n",
        "forecast = model.predict(future)"
      ],
      "execution_count": 70,
      "outputs": []
    },
    {
      "cell_type": "code",
      "metadata": {
        "id": "pN4JPCujmhVN"
      },
      "source": [
        "#plot the model forecast chart with component charts in trend and seasonality \n",
        "model.plot_components(forecast)\n",
        "model.plot(forecast)"
      ],
      "execution_count": null,
      "outputs": []
    }
  ]
}